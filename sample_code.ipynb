{
  "nbformat": 4,
  "nbformat_minor": 0,
  "metadata": {
    "colab": {
      "provenance": [],
      "authorship_tag": "ABX9TyMdF0J6qP0x5hJSmfaz53hl",
      "include_colab_link": true
    },
    "kernelspec": {
      "name": "python3",
      "display_name": "Python 3"
    },
    "language_info": {
      "name": "python"
    }
  },
  "cells": [
    {
      "cell_type": "markdown",
      "metadata": {
        "id": "view-in-github",
        "colab_type": "text"
      },
      "source": [
        "<a href=\"https://colab.research.google.com/github/Stephen-DSBOT/Queue_data_analysis/blob/main/sample_code.ipynb\" target=\"_parent\"><img src=\"https://colab.research.google.com/assets/colab-badge.svg\" alt=\"Open In Colab\"/></a>"
      ]
    },
    {
      "cell_type": "code",
      "execution_count": 1,
      "metadata": {
        "colab": {
          "base_uri": "https://localhost:8080/"
        },
        "id": "Tk2hn_AHzfo7",
        "outputId": "600e536d-9b06-4139-b31c-5c29b3ba133c"
      },
      "outputs": [
        {
          "output_type": "stream",
          "name": "stdout",
          "text": [
            "1/1 [==============================] - 0s 200ms/step\n",
            "Predicted waiting time for arrival rate 12 and service time 3: [13.272963]\n",
            "Predicted waiting time for arrival rate 18 and service time 5: [10.884001]\n",
            "Predicted waiting time for arrival rate 22 and service time 7: [10.048622]\n"
          ]
        }
      ],
      "source": [
        "import numpy as np\n",
        "from keras.models import Sequential\n",
        "from keras.layers import Dense\n",
        "\n",
        "# Define the input data (arrival rate and mean service time)\n",
        "arrival_rate = np.array([10, 15, 20, 25, 30])  # Example arrival rates\n",
        "service_time = np.array([2, 4, 6, 8, 10])  # Example service times\n",
        "mean_waiting_time = np.array([5, 7, 9, 11, 13])  # Example mean waiting times\n",
        "\n",
        "# Normalize the input data\n",
        "arrival_rate_norm = (arrival_rate - np.mean(arrival_rate)) / np.std(arrival_rate)\n",
        "service_time_norm = (service_time - np.mean(service_time)) / np.std(service_time)\n",
        "\n",
        "# Build the neural network model\n",
        "model = Sequential()\n",
        "model.add(Dense(10, input_dim=2, activation='relu'))\n",
        "model.add(Dense(1))\n",
        "\n",
        "# Compile the model\n",
        "model.compile(loss='mean_squared_error', optimizer='adam')\n",
        "\n",
        "# Train the model\n",
        "model.fit(np.column_stack((arrival_rate_norm, service_time_norm)), mean_waiting_time, epochs=100, verbose=0)\n",
        "\n",
        "# Predict the mean waiting time for new data\n",
        "new_arrival_rate = np.array([12, 18, 22])  # New arrival rates\n",
        "new_service_time = np.array([3, 5, 7])  # New service times\n",
        "\n",
        "# Normalize the new input data\n",
        "new_arrival_rate_norm = (new_arrival_rate - np.mean(arrival_rate)) / np.std(arrival_rate)\n",
        "new_service_time_norm = (new_service_time - np.mean(service_time)) / np.std(service_time)\n",
        "\n",
        "# Predict the mean waiting time\n",
        "predicted_waiting_time = model.predict(np.column_stack((new_arrival_rate_norm, new_service_time_norm)))\n",
        "\n",
        "# Denormalize the predicted waiting time\n",
        "predicted_waiting_time = (predicted_waiting_time * np.std(mean_waiting_time)) + np.mean(mean_waiting_time)\n",
        "\n",
        "# Print the predicted waiting time\n",
        "for i in range(len(new_arrival_rate)):\n",
        "    print(f\"Predicted waiting time for arrival rate {new_arrival_rate[i]} and service time {new_service_time[i]}: {predicted_waiting_time[i]}\")\n"
      ]
    }
  ]
}